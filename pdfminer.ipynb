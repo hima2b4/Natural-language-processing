{
  "nbformat": 4,
  "nbformat_minor": 0,
  "metadata": {
    "colab": {
      "name": "pdfminer.ipynb",
      "provenance": [],
      "collapsed_sections": [
        "QlKTx6c7U89Q"
      ]
    },
    "kernelspec": {
      "name": "python3",
      "display_name": "Python 3"
    },
    "language_info": {
      "name": "python"
    }
  },
  "cells": [
    {
      "cell_type": "markdown",
      "source": [
        "![image.png](data:image/png;base64,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)"
      ],
      "metadata": {
        "id": "0ItZPYcQeloX"
      }
    },
    {
      "cell_type": "markdown",
      "source": [
        "## **PDFテキスト抽出 実行手順**\n",
        "1. メニューバーの「**ランタイム**」から「**すべてのセルを実行**」をクリック。\n",
        "2. ライブラリインストール完了後、**[ファイル選択]**ボタンをクリックし、テキスト抽出したいPDFファイルを指定する。\n",
        "3. テキストファイル化した PDF2TXT.txt 保存のダイヤログボックスが表示されるので、任意のローカルファイルに保存する。"
      ],
      "metadata": {
        "id": "QlKTx6c7U89Q"
      }
    },
    {
      "cell_type": "markdown",
      "source": [
        "**ライブラリインストール＆インポート**"
      ],
      "metadata": {
        "id": "umN_uYOGfqwD"
      }
    },
    {
      "cell_type": "code",
      "source": [
        "import warnings\n",
        "warnings.filterwarnings('ignore')"
      ],
      "metadata": {
        "id": "TMtQBhYdVcWE"
      },
      "execution_count": 1,
      "outputs": []
    },
    {
      "cell_type": "code",
      "execution_count": 2,
      "metadata": {
        "colab": {
          "base_uri": "https://localhost:8080/"
        },
        "id": "t719R2_0SlNA",
        "outputId": "d7e2d322-6287-4229-e447-5ea5dfa4ce1e"
      },
      "outputs": [
        {
          "output_type": "stream",
          "name": "stdout",
          "text": [
            "Collecting pdfminer.six\n",
            "  Downloading pdfminer.six-20211012-py3-none-any.whl (5.6 MB)\n",
            "\u001b[K     |████████████████████████████████| 5.6 MB 5.2 MB/s \n",
            "\u001b[?25hCollecting cryptography\n",
            "  Downloading cryptography-36.0.0-cp36-abi3-manylinux_2_24_x86_64.whl (3.6 MB)\n",
            "\u001b[K     |████████████████████████████████| 3.6 MB 49.9 MB/s \n",
            "\u001b[?25hRequirement already satisfied: chardet in /usr/local/lib/python3.7/dist-packages (from pdfminer.six) (3.0.4)\n",
            "Requirement already satisfied: cffi>=1.12 in /usr/local/lib/python3.7/dist-packages (from cryptography->pdfminer.six) (1.15.0)\n",
            "Requirement already satisfied: pycparser in /usr/local/lib/python3.7/dist-packages (from cffi>=1.12->cryptography->pdfminer.six) (2.21)\n",
            "Installing collected packages: cryptography, pdfminer.six\n",
            "Successfully installed cryptography-36.0.0 pdfminer.six-20211012\n"
          ]
        }
      ],
      "source": [
        "pip install pdfminer.six"
      ]
    },
    {
      "cell_type": "markdown",
      "source": [
        "## **ファイル指定**"
      ],
      "metadata": {
        "id": "ePxa4fsHZuOK"
      }
    },
    {
      "cell_type": "code",
      "source": [
        "#@title PDFファイル選択\n",
        "from google.colab import files\n",
        "print('テキスト抽出するPDFを指定してください')\n",
        "uploaded = files.upload()\n",
        "\n",
        "#データフレーム格納＆欠損値削除\n",
        "if len(uploaded.keys()) != 1:\n",
        "    print(\"アップロードは１ファイルにのみ限ります\")\n",
        "else:\n",
        "    target = list(uploaded.keys())[0]"
      ],
      "metadata": {
        "cellView": "form",
        "id": "vXqmjs-lTPAA"
      },
      "execution_count": null,
      "outputs": []
    },
    {
      "cell_type": "code",
      "source": [
        "#@title PDFパスワード（パスワードがかかっている場合のみ指定）\n",
        "password = \"\" #@param {type:\"string\"}"
      ],
      "metadata": {
        "cellView": "form",
        "id": "em7lzzOjHOKC"
      },
      "execution_count": 4,
      "outputs": []
    },
    {
      "cell_type": "markdown",
      "source": [
        "## **テキスト抽出とtxtファイルへの出力**"
      ],
      "metadata": {
        "id": "_H0RFZ3EcRsp"
      }
    },
    {
      "cell_type": "code",
      "source": [
        "#@title PDFテキスト抽出 → PDF2TXT.txt 出力\n",
        "from pdfminer.high_level import extract_text\n",
        "\n",
        "text = extract_text(target,password=password)\n",
        "\n",
        "from google.colab import files\n",
        "with open('PDF2TXT.txt', 'w') as f:\n",
        "  f.write(text)\n",
        "files.download('PDF2TXT.txt')\n",
        "print('[テキスト表示]')\n",
        "print(text)"
      ],
      "metadata": {
        "cellView": "form",
        "id": "dFiYXOEETlv5"
      },
      "execution_count": null,
      "outputs": []
    },
    {
      "cell_type": "markdown",
      "source": [
        "## **このライブラリについて**\n",
        "- PDF文書はテキスト化することで、翻訳や要約、自然言語処理が容易となる。このライブラリはこれを補佐するもの。\n",
        "- Pythonライブラリ「pdfminer.six」を使用しています。\n",
        "- 日本語も英語もいけました。\n",
        "\n",
        "## **参考サイト**\n",
        "[**【Python】pdfminerでPDFからテキストを抽出する**](https://self-development.info/%E3%80%90python%E3%80%91pdfminer%E3%81%A7pdf%E3%81%8B%E3%82%89%E3%83%86%E3%82%AD%E3%82%B9%E3%83%88%E3%82%92%E6%8A%BD%E5%87%BA%E3%81%99%E3%82%8B/)"
      ],
      "metadata": {
        "id": "sykofuVlU19N"
      }
    }
  ]
}